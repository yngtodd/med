{
 "cells": [
  {
   "cell_type": "code",
   "execution_count": 7,
   "metadata": {},
   "outputs": [],
   "source": [
    "import os.path as osp\n",
    "\n",
    "import torch\n",
    "import torch.nn.functional as F\n",
    "\n",
    "from torch_geometric.datasets import Reddit\n",
    "from torch_geometric.data import NeighborSampler\n",
    "from torch_geometric.nn import SAGEConv, GATConv"
   ]
  },
  {
   "cell_type": "code",
   "execution_count": 2,
   "metadata": {},
   "outputs": [
    {
     "name": "stdout",
     "output_type": "stream",
     "text": [
      "Downloading https://s3.us-east-2.amazonaws.com/dgl.ai/dataset/reddit.zip\n",
      "Extracting /home/ygx/data/raw/reddit.zip\n"
     ]
    }
   ],
   "source": [
    "dataset = Reddit('~/data')"
   ]
  },
  {
   "cell_type": "code",
   "execution_count": 6,
   "metadata": {},
   "outputs": [
    {
     "data": {
      "text/plain": [
       "torch.Size([2708, 1433])"
      ]
     },
     "execution_count": 6,
     "metadata": {},
     "output_type": "execute_result"
    }
   ],
   "source": [
    "dataset.data.x.shape"
   ]
  },
  {
   "cell_type": "code",
   "execution_count": 9,
   "metadata": {},
   "outputs": [
    {
     "name": "stdout",
     "output_type": "stream",
     "text": [
      "Epoch: 01, Loss: 1.9271, Test: 0.5220\n",
      "Epoch: 02, Loss: 1.6878, Test: 0.6620\n",
      "Epoch: 03, Loss: 1.4352, Test: 0.7020\n",
      "Epoch: 04, Loss: 1.2650, Test: 0.7220\n",
      "Epoch: 05, Loss: 1.0983, Test: 0.7350\n",
      "Epoch: 06, Loss: 0.9570, Test: 0.7590\n",
      "Epoch: 07, Loss: 0.8296, Test: 0.7760\n",
      "Epoch: 08, Loss: 0.8989, Test: 0.7740\n",
      "Epoch: 09, Loss: 0.7911, Test: 0.7870\n",
      "Epoch: 10, Loss: 0.6484, Test: 0.7940\n",
      "Epoch: 11, Loss: 0.7406, Test: 0.7990\n",
      "Epoch: 12, Loss: 0.6380, Test: 0.8050\n",
      "Epoch: 13, Loss: 0.5891, Test: 0.8030\n",
      "Epoch: 14, Loss: 0.5450, Test: 0.7950\n",
      "Epoch: 15, Loss: 0.6128, Test: 0.7970\n",
      "Epoch: 16, Loss: 0.5073, Test: 0.7940\n",
      "Epoch: 17, Loss: 0.5181, Test: 0.7880\n",
      "Epoch: 18, Loss: 0.5492, Test: 0.7860\n",
      "Epoch: 19, Loss: 0.4379, Test: 0.7840\n",
      "Epoch: 20, Loss: 0.4601, Test: 0.7840\n",
      "Epoch: 21, Loss: 0.4202, Test: 0.7840\n",
      "Epoch: 22, Loss: 0.4937, Test: 0.7790\n",
      "Epoch: 23, Loss: 0.4239, Test: 0.7800\n",
      "Epoch: 24, Loss: 0.4327, Test: 0.7860\n",
      "Epoch: 25, Loss: 0.3609, Test: 0.7850\n",
      "Epoch: 26, Loss: 0.4742, Test: 0.7860\n",
      "Epoch: 27, Loss: 0.4456, Test: 0.7840\n",
      "Epoch: 28, Loss: 0.4279, Test: 0.7820\n",
      "Epoch: 29, Loss: 0.3464, Test: 0.7820\n",
      "Epoch: 30, Loss: 0.4084, Test: 0.7840\n"
     ]
    }
   ],
   "source": [
    "data = dataset[0]\n",
    "\n",
    "loader = NeighborSampler(data, size=[25, 10], num_hops=2, batch_size=1000,\n",
    "                         shuffle=True, add_self_loops=True)\n",
    "\n",
    "\n",
    "class SAGENet(torch.nn.Module):\n",
    "    def __init__(self, in_channels, out_channels):\n",
    "        super(SAGENet, self).__init__()\n",
    "        self.conv1 = SAGEConv(in_channels, 16, normalize=False)\n",
    "        self.conv2 = SAGEConv(16, out_channels, normalize=False)\n",
    "\n",
    "    def forward(self, x, data_flow):\n",
    "        data = data_flow[0]\n",
    "        x = x[data.n_id]\n",
    "        x = F.relu(self.conv1((x, None), data.edge_index, size=data.size))\n",
    "        x = F.dropout(x, p=0.5, training=self.training)\n",
    "        data = data_flow[1]\n",
    "        x = self.conv2((x, None), data.edge_index, size=data.size)\n",
    "        return F.log_softmax(x, dim=1)\n",
    "\n",
    "\n",
    "class GATNet(torch.nn.Module):\n",
    "    def __init__(self, in_channels, out_channels):\n",
    "        super(GATNet, self).__init__()\n",
    "        self.conv1 = GATConv(in_channels, 8, heads=8, dropout=0.6)\n",
    "        self.conv2 = GATConv(8 * 8, out_channels, heads=1, concat=True,\n",
    "                             dropout=0.6)\n",
    "\n",
    "    def forward(self, x, data_flow):\n",
    "        block = data_flow[0]\n",
    "        x = x[block.n_id]\n",
    "        x = F.elu(\n",
    "            self.conv1((x, x[block.res_n_id]), block.edge_index,\n",
    "                       size=block.size))\n",
    "        x = F.dropout(x, p=0.6, training=self.training)\n",
    "        block = data_flow[1]\n",
    "        x = self.conv2((x, x[block.res_n_id]), block.edge_index,\n",
    "                       size=block.size)\n",
    "        return F.log_softmax(x, dim=1)\n",
    "\n",
    "\n",
    "device = torch.device('cuda' if torch.cuda.is_available() else 'cpu')\n",
    "\n",
    "device = torch.device('cpu')\n",
    "#Net = SAGENet if args.model == 'SAGE' else GATNet\n",
    "model = GATNet(dataset.num_features, dataset.num_classes).to(device)\n",
    "optimizer = torch.optim.Adam(model.parameters(), lr=0.01, weight_decay=5e-4)\n",
    "\n",
    "\n",
    "def train():\n",
    "    model.train()\n",
    "\n",
    "    total_loss = 0\n",
    "    for data_flow in loader(data.train_mask):\n",
    "        optimizer.zero_grad()\n",
    "        out = model(data.x.to(device), data_flow.to(device))\n",
    "        loss = F.nll_loss(out, data.y[data_flow.n_id].to(device))\n",
    "        loss.backward()\n",
    "        optimizer.step()\n",
    "        total_loss += loss.item() * data_flow.batch_size\n",
    "    return total_loss / data.train_mask.sum().item()\n",
    "\n",
    "\n",
    "def test(mask):\n",
    "    model.eval()\n",
    "\n",
    "    correct = 0\n",
    "    for data_flow in loader(mask):\n",
    "        pred = model(data.x.to(device), data_flow.to(device)).max(1)[1]\n",
    "        correct += pred.eq(data.y[data_flow.n_id].to(device)).sum().item()\n",
    "    return correct / mask.sum().item()\n",
    "\n",
    "\n",
    "for epoch in range(1, 31):\n",
    "    loss = train()\n",
    "    test_acc = test(data.test_mask)\n",
    "    print('Epoch: {:02d}, Loss: {:.4f}, Test: {:.4f}'.format(\n",
    "        epoch, loss, test_acc))"
   ]
  },
  {
   "cell_type": "code",
   "execution_count": null,
   "metadata": {},
   "outputs": [],
   "source": []
  }
 ],
 "metadata": {
  "kernelspec": {
   "display_name": "Python 3",
   "language": "python",
   "name": "python3"
  },
  "language_info": {
   "codemirror_mode": {
    "name": "ipython",
    "version": 3
   },
   "file_extension": ".py",
   "mimetype": "text/x-python",
   "name": "python",
   "nbconvert_exporter": "python",
   "pygments_lexer": "ipython3",
   "version": "3.7.4"
  }
 },
 "nbformat": 4,
 "nbformat_minor": 2
}
