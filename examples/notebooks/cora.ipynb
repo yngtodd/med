{
 "cells": [
  {
   "cell_type": "code",
   "execution_count": 44,
   "metadata": {},
   "outputs": [],
   "source": [
    "import os.path as osp\n",
    "import argparse\n",
    "\n",
    "import torch\n",
    "import torch.nn.functional as F\n",
    "\n",
    "import torch_geometric\n",
    "from torch_geometric.datasets import Planetoid\n",
    "import torch_geometric.transforms as T\n",
    "from torch_geometric.nn import GCNConv, ChebConv  # noqa\n",
    "from torch_geometric.data import NeighborSampler"
   ]
  },
  {
   "cell_type": "code",
   "execution_count": 125,
   "metadata": {},
   "outputs": [],
   "source": [
    "dataset = 'Cora'\n",
    "path = '/home/ygx/data'\n",
    "dataset = Planetoid(path, dataset, T.NormalizeFeatures())\n",
    "data = dataset[0]"
   ]
  },
  {
   "cell_type": "code",
   "execution_count": 126,
   "metadata": {},
   "outputs": [
    {
     "data": {
      "text/plain": [
       "Data(edge_index=[2, 10556], test_mask=[2708], train_mask=[2708], val_mask=[2708], x=[2708, 1433], y=[2708])"
      ]
     },
     "execution_count": 126,
     "metadata": {},
     "output_type": "execute_result"
    }
   ],
   "source": [
    "# Node features\n",
    "data"
   ]
  },
  {
   "cell_type": "code",
   "execution_count": 28,
   "metadata": {},
   "outputs": [
    {
     "data": {
      "text/plain": [
       "torch.Size([2, 10556])"
      ]
     },
     "execution_count": 28,
     "metadata": {},
     "output_type": "execute_result"
    }
   ],
   "source": [
    "data.edge_index.shape"
   ]
  },
  {
   "cell_type": "code",
   "execution_count": 33,
   "metadata": {},
   "outputs": [
    {
     "data": {
      "text/plain": [
       "tensor([ True,  True,  True,  ..., False, False, False])"
      ]
     },
     "execution_count": 33,
     "metadata": {},
     "output_type": "execute_result"
    }
   ],
   "source": [
    "data.train_mask"
   ]
  },
  {
   "cell_type": "code",
   "execution_count": 35,
   "metadata": {},
   "outputs": [
    {
     "data": {
      "text/plain": [
       "tensor([False, False, False,  ...,  True,  True,  True])"
      ]
     },
     "execution_count": 35,
     "metadata": {},
     "output_type": "execute_result"
    }
   ],
   "source": [
    "data.test_mask"
   ]
  },
  {
   "cell_type": "code",
   "execution_count": 97,
   "metadata": {},
   "outputs": [],
   "source": [
    "sampler = NeighborSampler(data, 10, 5, 10, bipartite=False)"
   ]
  },
  {
   "cell_type": "code",
   "execution_count": 98,
   "metadata": {},
   "outputs": [],
   "source": [
    "from torch.utils.data import DataLoader"
   ]
  },
  {
   "cell_type": "code",
   "execution_count": 54,
   "metadata": {},
   "outputs": [],
   "source": [
    "loader = DataLoader(sampler)"
   ]
  },
  {
   "cell_type": "code",
   "execution_count": null,
   "metadata": {},
   "outputs": [],
   "source": []
  },
  {
   "cell_type": "code",
   "execution_count": null,
   "metadata": {},
   "outputs": [],
   "source": []
  },
  {
   "cell_type": "code",
   "execution_count": null,
   "metadata": {},
   "outputs": [],
   "source": []
  },
  {
   "cell_type": "code",
   "execution_count": null,
   "metadata": {},
   "outputs": [],
   "source": []
  },
  {
   "cell_type": "code",
   "execution_count": null,
   "metadata": {},
   "outputs": [],
   "source": []
  },
  {
   "cell_type": "code",
   "execution_count": null,
   "metadata": {},
   "outputs": [],
   "source": []
  },
  {
   "cell_type": "code",
   "execution_count": 6,
   "metadata": {},
   "outputs": [
    {
     "name": "stdout",
     "output_type": "stream",
     "text": [
      "Epoch: 001, Train: 0.3357, Val: 0.3440, Test: 0.3610\n",
      "Epoch: 002, Train: 0.4929, Val: 0.5160, Test: 0.5090\n",
      "Epoch: 003, Train: 0.6429, Val: 0.5160, Test: 0.5090\n",
      "Epoch: 004, Train: 0.6643, Val: 0.5160, Test: 0.5090\n",
      "Epoch: 005, Train: 0.7500, Val: 0.5300, Test: 0.5440\n",
      "Epoch: 006, Train: 0.8000, Val: 0.5780, Test: 0.6020\n",
      "Epoch: 007, Train: 0.8500, Val: 0.6280, Test: 0.6550\n",
      "Epoch: 008, Train: 0.8714, Val: 0.6560, Test: 0.6730\n",
      "Epoch: 009, Train: 0.8857, Val: 0.6800, Test: 0.6860\n",
      "Epoch: 010, Train: 0.9214, Val: 0.6880, Test: 0.7090\n",
      "Epoch: 011, Train: 0.9357, Val: 0.7120, Test: 0.7260\n",
      "Epoch: 012, Train: 0.9357, Val: 0.7160, Test: 0.7180\n",
      "Epoch: 013, Train: 0.9357, Val: 0.7160, Test: 0.7180\n",
      "Epoch: 014, Train: 0.9286, Val: 0.7160, Test: 0.7180\n",
      "Epoch: 015, Train: 0.9286, Val: 0.7160, Test: 0.7180\n",
      "Epoch: 016, Train: 0.9214, Val: 0.7160, Test: 0.7180\n",
      "Epoch: 017, Train: 0.9214, Val: 0.7160, Test: 0.7180\n",
      "Epoch: 018, Train: 0.9143, Val: 0.7160, Test: 0.7180\n",
      "Epoch: 019, Train: 0.9214, Val: 0.7160, Test: 0.7180\n",
      "Epoch: 020, Train: 0.9429, Val: 0.7160, Test: 0.7180\n",
      "Epoch: 021, Train: 0.9500, Val: 0.7160, Test: 0.7180\n",
      "Epoch: 022, Train: 0.9571, Val: 0.7160, Test: 0.7180\n",
      "Epoch: 023, Train: 0.9571, Val: 0.7160, Test: 0.7180\n",
      "Epoch: 024, Train: 0.9643, Val: 0.7260, Test: 0.7430\n",
      "Epoch: 025, Train: 0.9571, Val: 0.7300, Test: 0.7470\n",
      "Epoch: 026, Train: 0.9500, Val: 0.7440, Test: 0.7520\n",
      "Epoch: 027, Train: 0.9500, Val: 0.7440, Test: 0.7520\n",
      "Epoch: 028, Train: 0.9571, Val: 0.7440, Test: 0.7520\n",
      "Epoch: 029, Train: 0.9643, Val: 0.7460, Test: 0.7500\n",
      "Epoch: 030, Train: 0.9643, Val: 0.7460, Test: 0.7500\n",
      "Epoch: 031, Train: 0.9714, Val: 0.7500, Test: 0.7570\n",
      "Epoch: 032, Train: 0.9714, Val: 0.7540, Test: 0.7610\n",
      "Epoch: 033, Train: 0.9714, Val: 0.7540, Test: 0.7610\n",
      "Epoch: 034, Train: 0.9714, Val: 0.7600, Test: 0.7690\n",
      "Epoch: 035, Train: 0.9786, Val: 0.7640, Test: 0.7750\n",
      "Epoch: 036, Train: 0.9786, Val: 0.7640, Test: 0.7750\n",
      "Epoch: 037, Train: 0.9857, Val: 0.7680, Test: 0.7740\n",
      "Epoch: 038, Train: 0.9786, Val: 0.7680, Test: 0.7740\n",
      "Epoch: 039, Train: 0.9714, Val: 0.7680, Test: 0.7740\n",
      "Epoch: 040, Train: 0.9714, Val: 0.7720, Test: 0.7820\n",
      "Epoch: 041, Train: 0.9571, Val: 0.7720, Test: 0.7820\n",
      "Epoch: 042, Train: 0.9571, Val: 0.7720, Test: 0.7820\n",
      "Epoch: 043, Train: 0.9571, Val: 0.7720, Test: 0.7820\n",
      "Epoch: 044, Train: 0.9714, Val: 0.7720, Test: 0.7820\n",
      "Epoch: 045, Train: 0.9714, Val: 0.7720, Test: 0.7820\n",
      "Epoch: 046, Train: 0.9714, Val: 0.7720, Test: 0.7820\n",
      "Epoch: 047, Train: 0.9714, Val: 0.7720, Test: 0.7820\n",
      "Epoch: 048, Train: 0.9714, Val: 0.7720, Test: 0.7820\n",
      "Epoch: 049, Train: 0.9714, Val: 0.7720, Test: 0.7820\n",
      "Epoch: 050, Train: 0.9714, Val: 0.7720, Test: 0.7820\n",
      "Epoch: 051, Train: 0.9714, Val: 0.7720, Test: 0.7820\n",
      "Epoch: 052, Train: 0.9714, Val: 0.7720, Test: 0.7820\n",
      "Epoch: 053, Train: 0.9714, Val: 0.7720, Test: 0.7820\n",
      "Epoch: 054, Train: 0.9714, Val: 0.7720, Test: 0.7820\n",
      "Epoch: 055, Train: 0.9714, Val: 0.7720, Test: 0.7820\n",
      "Epoch: 056, Train: 0.9714, Val: 0.7720, Test: 0.7820\n",
      "Epoch: 057, Train: 0.9714, Val: 0.7720, Test: 0.7820\n",
      "Epoch: 058, Train: 0.9786, Val: 0.7720, Test: 0.7820\n",
      "Epoch: 059, Train: 0.9857, Val: 0.7720, Test: 0.7820\n",
      "Epoch: 060, Train: 0.9857, Val: 0.7720, Test: 0.7820\n",
      "Epoch: 061, Train: 0.9857, Val: 0.7720, Test: 0.7820\n",
      "Epoch: 062, Train: 0.9857, Val: 0.7720, Test: 0.7820\n",
      "Epoch: 063, Train: 0.9857, Val: 0.7740, Test: 0.8000\n",
      "Epoch: 064, Train: 0.9857, Val: 0.7780, Test: 0.8070\n",
      "Epoch: 065, Train: 0.9857, Val: 0.7780, Test: 0.8070\n",
      "Epoch: 066, Train: 0.9857, Val: 0.7780, Test: 0.8070\n",
      "Epoch: 067, Train: 0.9857, Val: 0.7780, Test: 0.8070\n",
      "Epoch: 068, Train: 0.9857, Val: 0.7800, Test: 0.7940\n",
      "Epoch: 069, Train: 0.9857, Val: 0.7800, Test: 0.7940\n",
      "Epoch: 070, Train: 0.9857, Val: 0.7800, Test: 0.7940\n",
      "Epoch: 071, Train: 0.9857, Val: 0.7800, Test: 0.7940\n",
      "Epoch: 072, Train: 0.9857, Val: 0.7800, Test: 0.7940\n",
      "Epoch: 073, Train: 0.9857, Val: 0.7800, Test: 0.7940\n",
      "Epoch: 074, Train: 0.9857, Val: 0.7860, Test: 0.8010\n",
      "Epoch: 075, Train: 0.9857, Val: 0.7860, Test: 0.8010\n",
      "Epoch: 076, Train: 0.9857, Val: 0.7860, Test: 0.8010\n",
      "Epoch: 077, Train: 0.9857, Val: 0.7860, Test: 0.8010\n",
      "Epoch: 078, Train: 0.9857, Val: 0.7860, Test: 0.8010\n",
      "Epoch: 079, Train: 0.9857, Val: 0.7860, Test: 0.8010\n",
      "Epoch: 080, Train: 0.9857, Val: 0.7860, Test: 0.8010\n",
      "Epoch: 081, Train: 0.9857, Val: 0.7880, Test: 0.8110\n",
      "Epoch: 082, Train: 0.9857, Val: 0.7880, Test: 0.8110\n",
      "Epoch: 083, Train: 0.9857, Val: 0.7880, Test: 0.8110\n",
      "Epoch: 084, Train: 0.9857, Val: 0.7880, Test: 0.8110\n",
      "Epoch: 085, Train: 0.9857, Val: 0.7880, Test: 0.8110\n",
      "Epoch: 086, Train: 0.9857, Val: 0.7880, Test: 0.8110\n",
      "Epoch: 087, Train: 0.9929, Val: 0.7880, Test: 0.8110\n",
      "Epoch: 088, Train: 0.9929, Val: 0.7880, Test: 0.8110\n",
      "Epoch: 089, Train: 0.9929, Val: 0.7880, Test: 0.8110\n",
      "Epoch: 090, Train: 0.9929, Val: 0.7880, Test: 0.8110\n",
      "Epoch: 091, Train: 0.9857, Val: 0.7920, Test: 0.8180\n",
      "Epoch: 092, Train: 0.9857, Val: 0.7920, Test: 0.8180\n",
      "Epoch: 093, Train: 0.9857, Val: 0.7920, Test: 0.8180\n",
      "Epoch: 094, Train: 0.9857, Val: 0.7920, Test: 0.8180\n",
      "Epoch: 095, Train: 0.9929, Val: 0.7920, Test: 0.8180\n",
      "Epoch: 096, Train: 0.9929, Val: 0.7920, Test: 0.8180\n",
      "Epoch: 097, Train: 0.9929, Val: 0.7920, Test: 0.8180\n",
      "Epoch: 098, Train: 0.9929, Val: 0.7920, Test: 0.8180\n",
      "Epoch: 099, Train: 0.9929, Val: 0.7920, Test: 0.8180\n",
      "Epoch: 100, Train: 0.9929, Val: 0.7920, Test: 0.8180\n",
      "Epoch: 101, Train: 0.9929, Val: 0.7920, Test: 0.8180\n",
      "Epoch: 102, Train: 0.9929, Val: 0.7920, Test: 0.8180\n",
      "Epoch: 103, Train: 0.9929, Val: 0.7920, Test: 0.8180\n",
      "Epoch: 104, Train: 0.9929, Val: 0.7920, Test: 0.8180\n",
      "Epoch: 105, Train: 0.9929, Val: 0.7920, Test: 0.8180\n",
      "Epoch: 106, Train: 0.9929, Val: 0.7920, Test: 0.8180\n",
      "Epoch: 107, Train: 0.9929, Val: 0.7920, Test: 0.8180\n",
      "Epoch: 108, Train: 0.9929, Val: 0.7920, Test: 0.8180\n",
      "Epoch: 109, Train: 0.9929, Val: 0.7920, Test: 0.8180\n",
      "Epoch: 110, Train: 0.9929, Val: 0.7920, Test: 0.8180\n",
      "Epoch: 111, Train: 0.9929, Val: 0.7920, Test: 0.8180\n",
      "Epoch: 112, Train: 0.9929, Val: 0.7920, Test: 0.8180\n",
      "Epoch: 113, Train: 0.9929, Val: 0.7920, Test: 0.8180\n",
      "Epoch: 114, Train: 0.9929, Val: 0.7920, Test: 0.8180\n",
      "Epoch: 115, Train: 0.9929, Val: 0.7920, Test: 0.8180\n",
      "Epoch: 116, Train: 0.9929, Val: 0.7920, Test: 0.8180\n",
      "Epoch: 117, Train: 0.9929, Val: 0.7920, Test: 0.8180\n",
      "Epoch: 118, Train: 1.0000, Val: 0.7920, Test: 0.8180\n",
      "Epoch: 119, Train: 1.0000, Val: 0.7920, Test: 0.8180\n",
      "Epoch: 120, Train: 1.0000, Val: 0.7920, Test: 0.8180\n",
      "Epoch: 121, Train: 1.0000, Val: 0.7920, Test: 0.8180\n",
      "Epoch: 122, Train: 1.0000, Val: 0.7920, Test: 0.8180\n",
      "Epoch: 123, Train: 1.0000, Val: 0.7920, Test: 0.8180\n",
      "Epoch: 124, Train: 0.9929, Val: 0.7920, Test: 0.8180\n",
      "Epoch: 125, Train: 0.9929, Val: 0.7920, Test: 0.8180\n",
      "Epoch: 126, Train: 0.9929, Val: 0.7920, Test: 0.8180\n",
      "Epoch: 127, Train: 0.9929, Val: 0.7920, Test: 0.8180\n",
      "Epoch: 128, Train: 0.9929, Val: 0.7920, Test: 0.8180\n",
      "Epoch: 129, Train: 0.9929, Val: 0.7920, Test: 0.8180\n",
      "Epoch: 130, Train: 0.9929, Val: 0.7920, Test: 0.8180\n",
      "Epoch: 131, Train: 0.9929, Val: 0.7920, Test: 0.8180\n",
      "Epoch: 132, Train: 1.0000, Val: 0.7920, Test: 0.8180\n",
      "Epoch: 133, Train: 1.0000, Val: 0.7920, Test: 0.8180\n",
      "Epoch: 134, Train: 1.0000, Val: 0.7920, Test: 0.8180\n",
      "Epoch: 135, Train: 1.0000, Val: 0.7920, Test: 0.8180\n",
      "Epoch: 136, Train: 1.0000, Val: 0.7920, Test: 0.8180\n",
      "Epoch: 137, Train: 1.0000, Val: 0.7920, Test: 0.8180\n",
      "Epoch: 138, Train: 1.0000, Val: 0.7920, Test: 0.8180\n",
      "Epoch: 139, Train: 1.0000, Val: 0.7920, Test: 0.8180\n",
      "Epoch: 140, Train: 1.0000, Val: 0.7920, Test: 0.8180\n",
      "Epoch: 141, Train: 1.0000, Val: 0.7920, Test: 0.8180\n",
      "Epoch: 142, Train: 1.0000, Val: 0.7920, Test: 0.8180\n",
      "Epoch: 143, Train: 0.9929, Val: 0.7920, Test: 0.8180\n",
      "Epoch: 144, Train: 1.0000, Val: 0.7920, Test: 0.8180\n",
      "Epoch: 145, Train: 1.0000, Val: 0.7920, Test: 0.8180\n",
      "Epoch: 146, Train: 1.0000, Val: 0.7920, Test: 0.8180\n",
      "Epoch: 147, Train: 1.0000, Val: 0.7920, Test: 0.8180\n",
      "Epoch: 148, Train: 1.0000, Val: 0.7920, Test: 0.8180\n",
      "Epoch: 149, Train: 1.0000, Val: 0.7920, Test: 0.8180\n",
      "Epoch: 150, Train: 1.0000, Val: 0.7920, Test: 0.8180\n",
      "Epoch: 151, Train: 0.9929, Val: 0.7920, Test: 0.8180\n",
      "Epoch: 152, Train: 1.0000, Val: 0.7920, Test: 0.8180\n",
      "Epoch: 153, Train: 1.0000, Val: 0.7920, Test: 0.8180\n",
      "Epoch: 154, Train: 1.0000, Val: 0.7920, Test: 0.8180\n",
      "Epoch: 155, Train: 1.0000, Val: 0.7920, Test: 0.8180\n",
      "Epoch: 156, Train: 1.0000, Val: 0.7920, Test: 0.8180\n",
      "Epoch: 157, Train: 1.0000, Val: 0.7920, Test: 0.8180\n",
      "Epoch: 158, Train: 1.0000, Val: 0.7920, Test: 0.8180\n",
      "Epoch: 159, Train: 1.0000, Val: 0.7920, Test: 0.8180\n",
      "Epoch: 160, Train: 1.0000, Val: 0.7920, Test: 0.8180\n",
      "Epoch: 161, Train: 1.0000, Val: 0.7920, Test: 0.8180\n",
      "Epoch: 162, Train: 1.0000, Val: 0.7920, Test: 0.8180\n",
      "Epoch: 163, Train: 1.0000, Val: 0.7920, Test: 0.8180\n",
      "Epoch: 164, Train: 1.0000, Val: 0.7920, Test: 0.8180\n",
      "Epoch: 165, Train: 1.0000, Val: 0.7920, Test: 0.8180\n",
      "Epoch: 166, Train: 1.0000, Val: 0.7920, Test: 0.8180\n",
      "Epoch: 167, Train: 1.0000, Val: 0.7920, Test: 0.8180\n",
      "Epoch: 168, Train: 1.0000, Val: 0.7920, Test: 0.8180\n",
      "Epoch: 169, Train: 1.0000, Val: 0.7920, Test: 0.8180\n",
      "Epoch: 170, Train: 1.0000, Val: 0.7920, Test: 0.8180\n",
      "Epoch: 171, Train: 1.0000, Val: 0.7920, Test: 0.8180\n",
      "Epoch: 172, Train: 1.0000, Val: 0.7920, Test: 0.8180\n"
     ]
    },
    {
     "name": "stdout",
     "output_type": "stream",
     "text": [
      "Epoch: 173, Train: 1.0000, Val: 0.7920, Test: 0.8180\n",
      "Epoch: 174, Train: 1.0000, Val: 0.7920, Test: 0.8180\n",
      "Epoch: 175, Train: 1.0000, Val: 0.7920, Test: 0.8180\n",
      "Epoch: 176, Train: 1.0000, Val: 0.7920, Test: 0.8180\n",
      "Epoch: 177, Train: 1.0000, Val: 0.7920, Test: 0.8180\n",
      "Epoch: 178, Train: 1.0000, Val: 0.7920, Test: 0.8180\n",
      "Epoch: 179, Train: 1.0000, Val: 0.7920, Test: 0.8180\n",
      "Epoch: 180, Train: 1.0000, Val: 0.7920, Test: 0.8180\n",
      "Epoch: 181, Train: 1.0000, Val: 0.7920, Test: 0.8180\n",
      "Epoch: 182, Train: 1.0000, Val: 0.7920, Test: 0.8180\n",
      "Epoch: 183, Train: 1.0000, Val: 0.7920, Test: 0.8180\n",
      "Epoch: 184, Train: 1.0000, Val: 0.7920, Test: 0.8180\n",
      "Epoch: 185, Train: 1.0000, Val: 0.7920, Test: 0.8180\n",
      "Epoch: 186, Train: 1.0000, Val: 0.7920, Test: 0.8180\n",
      "Epoch: 187, Train: 1.0000, Val: 0.7920, Test: 0.8180\n",
      "Epoch: 188, Train: 1.0000, Val: 0.7920, Test: 0.8180\n",
      "Epoch: 189, Train: 1.0000, Val: 0.7920, Test: 0.8180\n",
      "Epoch: 190, Train: 1.0000, Val: 0.7920, Test: 0.8180\n",
      "Epoch: 191, Train: 1.0000, Val: 0.7920, Test: 0.8180\n",
      "Epoch: 192, Train: 1.0000, Val: 0.7920, Test: 0.8180\n",
      "Epoch: 193, Train: 1.0000, Val: 0.7920, Test: 0.8180\n",
      "Epoch: 194, Train: 1.0000, Val: 0.7920, Test: 0.8180\n",
      "Epoch: 195, Train: 1.0000, Val: 0.7920, Test: 0.8180\n",
      "Epoch: 196, Train: 1.0000, Val: 0.7920, Test: 0.8180\n",
      "Epoch: 197, Train: 1.0000, Val: 0.7920, Test: 0.8180\n",
      "Epoch: 198, Train: 1.0000, Val: 0.7920, Test: 0.8180\n",
      "Epoch: 199, Train: 1.0000, Val: 0.7920, Test: 0.8180\n",
      "Epoch: 200, Train: 1.0000, Val: 0.7920, Test: 0.8180\n"
     ]
    }
   ],
   "source": [
    "xclass Net(torch.nn.Module):\n",
    "    def __init__(self):\n",
    "        super(Net, self).__init__()\n",
    "        self.conv1 = GCNConv(dataset.num_features, 16, cached=True)\n",
    "        self.conv2 = GCNConv(16, dataset.num_classes, cached=True)\n",
    "        # self.conv1 = ChebConv(data.num_features, 16, K=2)\n",
    "        # self.conv2 = ChebConv(16, data.num_features, K=2)\n",
    "\n",
    "        self.reg_params = self.conv1.parameters()\n",
    "        self.non_reg_params = self.conv2.parameters()\n",
    "\n",
    "    def forward(self):\n",
    "        x, edge_index, edge_weight = data.x, data.edge_index, data.edge_attr\n",
    "        x = F.relu(self.conv1(x, edge_index, edge_weight))\n",
    "        x = F.dropout(x, training=self.training)\n",
    "        x = self.conv2(x, edge_index, edge_weight)\n",
    "        return F.log_softmax(x, dim=1)\n",
    "\n",
    "\n",
    "device = torch.device('cuda' if torch.cuda.is_available() else 'cpu')\n",
    "model, data = Net().to(device), data.to(device)\n",
    "optimizer = torch.optim.Adam([\n",
    "    dict(params=model.reg_params, weight_decay=5e-4),\n",
    "    dict(params=model.non_reg_params, weight_decay=0)\n",
    "], lr=0.01)\n",
    "\n",
    "\n",
    "def train():\n",
    "    model.train()\n",
    "    optimizer.zero_grad()\n",
    "    F.nll_loss(model()[data.train_mask], data.y[data.train_mask]).backward()\n",
    "    optimizer.step()\n",
    "\n",
    "\n",
    "def test():\n",
    "    model.eval()\n",
    "    logits, accs = model(), []\n",
    "    for _, mask in data('train_mask', 'val_mask', 'test_mask'):\n",
    "        pred = logits[mask].max(1)[1]\n",
    "        acc = pred.eq(data.y[mask]).sum().item() / mask.sum().item()\n",
    "        accs.append(acc)\n",
    "    return accs\n",
    "\n",
    "\n",
    "best_val_acc = test_acc = 0\n",
    "for epoch in range(1, 201):\n",
    "    train()\n",
    "    train_acc, val_acc, tmp_test_acc = test()\n",
    "    if val_acc > best_val_acc:\n",
    "        best_val_acc = val_acc\n",
    "        test_acc = tmp_test_acc\n",
    "    log = 'Epoch: {:03d}, Train: {:.4f}, Val: {:.4f}, Test: {:.4f}'\n",
    "    print(log.format(epoch, train_acc, best_val_acc, test_acc))"
   ]
  },
  {
   "cell_type": "code",
   "execution_count": 43,
   "metadata": {},
   "outputs": [
    {
     "data": {
      "text/plain": [
       "23063"
      ]
     },
     "execution_count": 43,
     "metadata": {},
     "output_type": "execute_result"
    }
   ],
   "source": [
    "sum(p.numel() for p in model.parameters())"
   ]
  },
  {
   "cell_type": "code",
   "execution_count": 121,
   "metadata": {},
   "outputs": [],
   "source": [
    "class GCN(torch.nn.Module):\n",
    "    def __init__(self, dataset, num_layers, hidden):\n",
    "        super(GCN, self).__init__()\n",
    "        self.conv1 = GCNConv(dataset.num_features, hidden)\n",
    "        self.convs = torch.nn.ModuleList()\n",
    "        for i in range(num_layers - 1):\n",
    "            self.convs.append(GCNConv(hidden, hidden))\n",
    "        self.lin1 = torch.nn.Linear(hidden, hidden)\n",
    "        self.lin2 = torch.nn.Linear(hidden, dataset.num_classes)\n",
    "\n",
    "    def reset_parameters(self):\n",
    "        self.conv1.reset_parameters()\n",
    "        for conv in self.convs:\n",
    "            conv.reset_parameters()\n",
    "        self.lin1.reset_parameters()\n",
    "        self.lin2.reset_parameters()\n",
    "\n",
    "    def forward(self, data):\n",
    "        x, edge_index = data.x, data.edge_index\n",
    "        x = F.relu(self.conv1(x, edge_index))\n",
    "        for conv in self.convs:\n",
    "            x = F.relu(conv(x, edge_index))\n",
    "        x = global_mean_pool(x, batch)\n",
    "        x = F.relu(self.lin1(x))\n",
    "        x = F.dropout(x, p=0.5, training=self.training)\n",
    "        x = self.lin2(x)\n",
    "        return F.log_softmax(x, dim=-1)\n",
    "\n",
    "    def __repr__(self):\n",
    "        return self.__class__.__name__"
   ]
  },
  {
   "cell_type": "code",
   "execution_count": 122,
   "metadata": {},
   "outputs": [],
   "source": [
    "model = GCN(dataset, 2, 100)"
   ]
  },
  {
   "cell_type": "code",
   "execution_count": 68,
   "metadata": {},
   "outputs": [
    {
     "data": {
      "text/plain": [
       "DataFlow(1<-3<-7)"
      ]
     },
     "execution_count": 68,
     "metadata": {},
     "output_type": "execute_result"
    }
   ],
   "source": [
    "next(sampler())"
   ]
  },
  {
   "cell_type": "code",
   "execution_count": 66,
   "metadata": {},
   "outputs": [
    {
     "data": {
      "text/plain": [
       "Data(edge_index=[2, 10556], test_mask=[2708], train_mask=[2708], val_mask=[2708], x=[2708, 1433], y=[2708])"
      ]
     },
     "execution_count": 66,
     "metadata": {},
     "output_type": "execute_result"
    }
   ],
   "source": [
    "data"
   ]
  },
  {
   "cell_type": "code",
   "execution_count": 128,
   "metadata": {},
   "outputs": [],
   "source": [
    "sampler = NeighborSampler(\n",
    "    data, size=10, num_hops=5, batch_size=10, bipartite=False\n",
    ")\n",
    "\n",
    "loader = sampler()"
   ]
  },
  {
   "cell_type": "code",
   "execution_count": 124,
   "metadata": {},
   "outputs": [
    {
     "name": "stdout",
     "output_type": "stream",
     "text": [
      "id: 0, batch: Data(b_id=[10], e_id=[2980], edge_index=[2, 2980], n_id=[1188], sub_b_id=[10])\n"
     ]
    },
    {
     "ename": "TypeError",
     "evalue": "matmul(): argument 'input' (position 1) must be Tensor, not NoneType",
     "output_type": "error",
     "traceback": [
      "\u001b[0;31m---------------------------------------------------------------------------\u001b[0m",
      "\u001b[0;31mTypeError\u001b[0m                                 Traceback (most recent call last)",
      "\u001b[0;32m<ipython-input-124-f3da03b7b815>\u001b[0m in \u001b[0;36m<module>\u001b[0;34m\u001b[0m\n\u001b[1;32m      1\u001b[0m \u001b[0;32mfor\u001b[0m \u001b[0midx\u001b[0m\u001b[0;34m,\u001b[0m \u001b[0mbatch\u001b[0m \u001b[0;32min\u001b[0m \u001b[0menumerate\u001b[0m\u001b[0;34m(\u001b[0m\u001b[0mloader\u001b[0m\u001b[0;34m)\u001b[0m\u001b[0;34m:\u001b[0m\u001b[0;34m\u001b[0m\u001b[0;34m\u001b[0m\u001b[0m\n\u001b[1;32m      2\u001b[0m     \u001b[0mprint\u001b[0m\u001b[0;34m(\u001b[0m\u001b[0;34mf'id: {idx}, batch: {batch}'\u001b[0m\u001b[0;34m)\u001b[0m\u001b[0;34m\u001b[0m\u001b[0;34m\u001b[0m\u001b[0m\n\u001b[0;32m----> 3\u001b[0;31m     \u001b[0mmodel\u001b[0m\u001b[0;34m(\u001b[0m\u001b[0mbatch\u001b[0m\u001b[0;34m)\u001b[0m\u001b[0;34m\u001b[0m\u001b[0;34m\u001b[0m\u001b[0m\n\u001b[0m",
      "\u001b[0;32m~/lib/anaconda3/lib/python3.7/site-packages/torch/nn/modules/module.py\u001b[0m in \u001b[0;36m__call__\u001b[0;34m(self, *input, **kwargs)\u001b[0m\n\u001b[1;32m    530\u001b[0m             \u001b[0mresult\u001b[0m \u001b[0;34m=\u001b[0m \u001b[0mself\u001b[0m\u001b[0;34m.\u001b[0m\u001b[0m_slow_forward\u001b[0m\u001b[0;34m(\u001b[0m\u001b[0;34m*\u001b[0m\u001b[0minput\u001b[0m\u001b[0;34m,\u001b[0m \u001b[0;34m**\u001b[0m\u001b[0mkwargs\u001b[0m\u001b[0;34m)\u001b[0m\u001b[0;34m\u001b[0m\u001b[0;34m\u001b[0m\u001b[0m\n\u001b[1;32m    531\u001b[0m         \u001b[0;32melse\u001b[0m\u001b[0;34m:\u001b[0m\u001b[0;34m\u001b[0m\u001b[0;34m\u001b[0m\u001b[0m\n\u001b[0;32m--> 532\u001b[0;31m             \u001b[0mresult\u001b[0m \u001b[0;34m=\u001b[0m \u001b[0mself\u001b[0m\u001b[0;34m.\u001b[0m\u001b[0mforward\u001b[0m\u001b[0;34m(\u001b[0m\u001b[0;34m*\u001b[0m\u001b[0minput\u001b[0m\u001b[0;34m,\u001b[0m \u001b[0;34m**\u001b[0m\u001b[0mkwargs\u001b[0m\u001b[0;34m)\u001b[0m\u001b[0;34m\u001b[0m\u001b[0;34m\u001b[0m\u001b[0m\n\u001b[0m\u001b[1;32m    533\u001b[0m         \u001b[0;32mfor\u001b[0m \u001b[0mhook\u001b[0m \u001b[0;32min\u001b[0m \u001b[0mself\u001b[0m\u001b[0;34m.\u001b[0m\u001b[0m_forward_hooks\u001b[0m\u001b[0;34m.\u001b[0m\u001b[0mvalues\u001b[0m\u001b[0;34m(\u001b[0m\u001b[0;34m)\u001b[0m\u001b[0;34m:\u001b[0m\u001b[0;34m\u001b[0m\u001b[0;34m\u001b[0m\u001b[0m\n\u001b[1;32m    534\u001b[0m             \u001b[0mhook_result\u001b[0m \u001b[0;34m=\u001b[0m \u001b[0mhook\u001b[0m\u001b[0;34m(\u001b[0m\u001b[0mself\u001b[0m\u001b[0;34m,\u001b[0m \u001b[0minput\u001b[0m\u001b[0;34m,\u001b[0m \u001b[0mresult\u001b[0m\u001b[0;34m)\u001b[0m\u001b[0;34m\u001b[0m\u001b[0;34m\u001b[0m\u001b[0m\n",
      "\u001b[0;32m<ipython-input-121-5ee01ecec7b7>\u001b[0m in \u001b[0;36mforward\u001b[0;34m(self, data)\u001b[0m\n\u001b[1;32m     18\u001b[0m     \u001b[0;32mdef\u001b[0m \u001b[0mforward\u001b[0m\u001b[0;34m(\u001b[0m\u001b[0mself\u001b[0m\u001b[0;34m,\u001b[0m \u001b[0mdata\u001b[0m\u001b[0;34m)\u001b[0m\u001b[0;34m:\u001b[0m\u001b[0;34m\u001b[0m\u001b[0;34m\u001b[0m\u001b[0m\n\u001b[1;32m     19\u001b[0m         \u001b[0mx\u001b[0m\u001b[0;34m,\u001b[0m \u001b[0medge_index\u001b[0m \u001b[0;34m=\u001b[0m \u001b[0mdata\u001b[0m\u001b[0;34m.\u001b[0m\u001b[0mx\u001b[0m\u001b[0;34m,\u001b[0m \u001b[0mdata\u001b[0m\u001b[0;34m.\u001b[0m\u001b[0medge_index\u001b[0m\u001b[0;34m\u001b[0m\u001b[0;34m\u001b[0m\u001b[0m\n\u001b[0;32m---> 20\u001b[0;31m         \u001b[0mx\u001b[0m \u001b[0;34m=\u001b[0m \u001b[0mF\u001b[0m\u001b[0;34m.\u001b[0m\u001b[0mrelu\u001b[0m\u001b[0;34m(\u001b[0m\u001b[0mself\u001b[0m\u001b[0;34m.\u001b[0m\u001b[0mconv1\u001b[0m\u001b[0;34m(\u001b[0m\u001b[0mx\u001b[0m\u001b[0;34m,\u001b[0m \u001b[0medge_index\u001b[0m\u001b[0;34m)\u001b[0m\u001b[0;34m)\u001b[0m\u001b[0;34m\u001b[0m\u001b[0;34m\u001b[0m\u001b[0m\n\u001b[0m\u001b[1;32m     21\u001b[0m         \u001b[0;32mfor\u001b[0m \u001b[0mconv\u001b[0m \u001b[0;32min\u001b[0m \u001b[0mself\u001b[0m\u001b[0;34m.\u001b[0m\u001b[0mconvs\u001b[0m\u001b[0;34m:\u001b[0m\u001b[0;34m\u001b[0m\u001b[0;34m\u001b[0m\u001b[0m\n\u001b[1;32m     22\u001b[0m             \u001b[0mx\u001b[0m \u001b[0;34m=\u001b[0m \u001b[0mF\u001b[0m\u001b[0;34m.\u001b[0m\u001b[0mrelu\u001b[0m\u001b[0;34m(\u001b[0m\u001b[0mconv\u001b[0m\u001b[0;34m(\u001b[0m\u001b[0mx\u001b[0m\u001b[0;34m,\u001b[0m \u001b[0medge_index\u001b[0m\u001b[0;34m)\u001b[0m\u001b[0;34m)\u001b[0m\u001b[0;34m\u001b[0m\u001b[0;34m\u001b[0m\u001b[0m\n",
      "\u001b[0;32m~/lib/anaconda3/lib/python3.7/site-packages/torch/nn/modules/module.py\u001b[0m in \u001b[0;36m__call__\u001b[0;34m(self, *input, **kwargs)\u001b[0m\n\u001b[1;32m    530\u001b[0m             \u001b[0mresult\u001b[0m \u001b[0;34m=\u001b[0m \u001b[0mself\u001b[0m\u001b[0;34m.\u001b[0m\u001b[0m_slow_forward\u001b[0m\u001b[0;34m(\u001b[0m\u001b[0;34m*\u001b[0m\u001b[0minput\u001b[0m\u001b[0;34m,\u001b[0m \u001b[0;34m**\u001b[0m\u001b[0mkwargs\u001b[0m\u001b[0;34m)\u001b[0m\u001b[0;34m\u001b[0m\u001b[0;34m\u001b[0m\u001b[0m\n\u001b[1;32m    531\u001b[0m         \u001b[0;32melse\u001b[0m\u001b[0;34m:\u001b[0m\u001b[0;34m\u001b[0m\u001b[0;34m\u001b[0m\u001b[0m\n\u001b[0;32m--> 532\u001b[0;31m             \u001b[0mresult\u001b[0m \u001b[0;34m=\u001b[0m \u001b[0mself\u001b[0m\u001b[0;34m.\u001b[0m\u001b[0mforward\u001b[0m\u001b[0;34m(\u001b[0m\u001b[0;34m*\u001b[0m\u001b[0minput\u001b[0m\u001b[0;34m,\u001b[0m \u001b[0;34m**\u001b[0m\u001b[0mkwargs\u001b[0m\u001b[0;34m)\u001b[0m\u001b[0;34m\u001b[0m\u001b[0;34m\u001b[0m\u001b[0m\n\u001b[0m\u001b[1;32m    533\u001b[0m         \u001b[0;32mfor\u001b[0m \u001b[0mhook\u001b[0m \u001b[0;32min\u001b[0m \u001b[0mself\u001b[0m\u001b[0;34m.\u001b[0m\u001b[0m_forward_hooks\u001b[0m\u001b[0;34m.\u001b[0m\u001b[0mvalues\u001b[0m\u001b[0;34m(\u001b[0m\u001b[0;34m)\u001b[0m\u001b[0;34m:\u001b[0m\u001b[0;34m\u001b[0m\u001b[0;34m\u001b[0m\u001b[0m\n\u001b[1;32m    534\u001b[0m             \u001b[0mhook_result\u001b[0m \u001b[0;34m=\u001b[0m \u001b[0mhook\u001b[0m\u001b[0;34m(\u001b[0m\u001b[0mself\u001b[0m\u001b[0;34m,\u001b[0m \u001b[0minput\u001b[0m\u001b[0;34m,\u001b[0m \u001b[0mresult\u001b[0m\u001b[0;34m)\u001b[0m\u001b[0;34m\u001b[0m\u001b[0;34m\u001b[0m\u001b[0m\n",
      "\u001b[0;32m~/lib/anaconda3/lib/python3.7/site-packages/torch_geometric/nn/conv/gcn_conv.py\u001b[0m in \u001b[0;36mforward\u001b[0;34m(self, x, edge_index, edge_weight)\u001b[0m\n\u001b[1;32m     83\u001b[0m     \u001b[0;32mdef\u001b[0m \u001b[0mforward\u001b[0m\u001b[0;34m(\u001b[0m\u001b[0mself\u001b[0m\u001b[0;34m,\u001b[0m \u001b[0mx\u001b[0m\u001b[0;34m,\u001b[0m \u001b[0medge_index\u001b[0m\u001b[0;34m,\u001b[0m \u001b[0medge_weight\u001b[0m\u001b[0;34m=\u001b[0m\u001b[0;32mNone\u001b[0m\u001b[0;34m)\u001b[0m\u001b[0;34m:\u001b[0m\u001b[0;34m\u001b[0m\u001b[0;34m\u001b[0m\u001b[0m\n\u001b[1;32m     84\u001b[0m         \u001b[0;34m\"\"\"\"\"\"\u001b[0m\u001b[0;34m\u001b[0m\u001b[0;34m\u001b[0m\u001b[0m\n\u001b[0;32m---> 85\u001b[0;31m         \u001b[0mx\u001b[0m \u001b[0;34m=\u001b[0m \u001b[0mtorch\u001b[0m\u001b[0;34m.\u001b[0m\u001b[0mmatmul\u001b[0m\u001b[0;34m(\u001b[0m\u001b[0mx\u001b[0m\u001b[0;34m,\u001b[0m \u001b[0mself\u001b[0m\u001b[0;34m.\u001b[0m\u001b[0mweight\u001b[0m\u001b[0;34m)\u001b[0m\u001b[0;34m\u001b[0m\u001b[0;34m\u001b[0m\u001b[0m\n\u001b[0m\u001b[1;32m     86\u001b[0m \u001b[0;34m\u001b[0m\u001b[0m\n\u001b[1;32m     87\u001b[0m         \u001b[0;32mif\u001b[0m \u001b[0mself\u001b[0m\u001b[0;34m.\u001b[0m\u001b[0mcached\u001b[0m \u001b[0;32mand\u001b[0m \u001b[0mself\u001b[0m\u001b[0;34m.\u001b[0m\u001b[0mcached_result\u001b[0m \u001b[0;32mis\u001b[0m \u001b[0;32mnot\u001b[0m \u001b[0;32mNone\u001b[0m\u001b[0;34m:\u001b[0m\u001b[0;34m\u001b[0m\u001b[0;34m\u001b[0m\u001b[0m\n",
      "\u001b[0;31mTypeError\u001b[0m: matmul(): argument 'input' (position 1) must be Tensor, not NoneType"
     ]
    }
   ],
   "source": [
    "for idx, batch in enumerate(loader):\n",
    "    print(f'id: {idx}, batch: {batch}')\n",
    "    model(batch)"
   ]
  },
  {
   "cell_type": "code",
   "execution_count": 127,
   "metadata": {},
   "outputs": [
    {
     "data": {
      "text/plain": [
       "Data(b_id=[10], e_id=[2980], edge_index=[2, 2980], n_id=[1188], sub_b_id=[10])"
      ]
     },
     "execution_count": 127,
     "metadata": {},
     "output_type": "execute_result"
    }
   ],
   "source": [
    "batch"
   ]
  },
  {
   "cell_type": "code",
   "execution_count": null,
   "metadata": {},
   "outputs": [],
   "source": []
  }
 ],
 "metadata": {
  "kernelspec": {
   "display_name": "Python 3",
   "language": "python",
   "name": "python3"
  },
  "language_info": {
   "codemirror_mode": {
    "name": "ipython",
    "version": 3
   },
   "file_extension": ".py",
   "mimetype": "text/x-python",
   "name": "python",
   "nbconvert_exporter": "python",
   "pygments_lexer": "ipython3",
   "version": "3.7.4"
  }
 },
 "nbformat": 4,
 "nbformat_minor": 2
}
